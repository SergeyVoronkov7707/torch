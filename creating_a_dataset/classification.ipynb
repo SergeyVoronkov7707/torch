{
 "cells": [
  {
   "cell_type": "code",
   "execution_count": 2,
   "id": "8ed48dc5-95f2-48b7-9391-f7b5d7bf41b0",
   "metadata": {},
   "outputs": [],
   "source": [
    "import torch\n",
    "import torchvision\n",
    "\n",
    "from torchvision.datasets import ImageFolder\n",
    "from torch.utils.data import Dataset, DataLoader, random_split\n",
    "\n",
    "from torchvision import transforms\n",
    "from torchvision.transforms import v2\n",
    "\n",
    "import os\n",
    "import json\n",
    "import matplotlib.pyplot as plt\n",
    "import numpy as np\n",
    "\n",
    "from PIL import Image"
   ]
  },
  {
   "cell_type": "code",
   "execution_count": 3,
   "id": "013c5d69-76df-4ec0-89ae-386482749c11",
   "metadata": {},
   "outputs": [],
   "source": [
    "class MnistDtatset(Dataset):\n",
    "    def __init__(self, path, transform=None):\n",
    "        self.path = path\n",
    "        self.transform = transform\n",
    "        self.info_cls = \"info\"\n",
    "        self.len_dataset = 0\n",
    "        self.data_list = []\n",
    "        if path.split(\"\\\\\")[-1] == \"training\":\n",
    "            for path_dir, dir_list, file_list in os.walk(path):\n",
    "                if path_dir == path:\n",
    "                    self.classes = dir_list\n",
    "                    self.class_to_idx = {\n",
    "                            cls_name : i for i, cls_name in enumerate(self.classes)\n",
    "                        } \n",
    "                    continue\n",
    "                    \n",
    "                cls = path_dir.split(\"\\\\\")[-1]\n",
    "                \n",
    "                for name_file in file_list:\n",
    "                    file_path = os.path.join(path_dir, name_file)\n",
    "                    self.data_list.append((file_path, self.class_to_idx[cls]))\n",
    "    \n",
    "                self.len_dataset += len(file_list)\n",
    "        elif path.split(\"\\\\\")[-1] == \"testing\":\n",
    "            for path_dir, dir_list, file_list in os.walk(path):\n",
    "                cls = path_dir.split(\"\\\\\")[-1]\n",
    "                for num, name_file in enumerate(file_list):\n",
    "                    file_path = os.path.join(path_dir, name_file)\n",
    "                    self.data_list.append((file_path, num))\n",
    "                self.len_dataset += len(file_list)\n",
    "                \n",
    "            \n",
    "    def __len__(self):\n",
    "        return self.len_dataset\n",
    "        \n",
    "    def __getitem__(self, index):\n",
    "        file_path, target = self.data_list[index]\n",
    "        sample = np.array(Image.open(file_path))\n",
    "\n",
    "        if self.transform is not None:\n",
    "            sample = self.transform(sample)\n",
    "        return sample, target\n",
    "        "
   ]
  },
  {
   "cell_type": "code",
   "execution_count": 4,
   "id": "8046ce0a-4f9c-43c7-a438-94e0ce559b0a",
   "metadata": {
    "scrolled": true
   },
   "outputs": [],
   "source": [
    "# p = r\"C:\\Users\\voron\\IT\\pytorch\\mnist\\training\"\n",
    "# # p = r\"C:\\Users\\voron\\IT\\pytorch\\mnist\\testing\"\n",
    "# for dir_path, dir_file, file in os.walk(p):\n",
    "#     print(\"dir_path: \", dir_path)\n",
    "#     print(\"dir_file: \", dir_file)\n",
    "#     print(\"file: \", len(file))\n",
    "#     print(\"*\"*20)"
   ]
  },
  {
   "cell_type": "code",
   "execution_count": 5,
   "id": "c3d1a788-fcf7-4f9b-9c17-f65d69e61d7f",
   "metadata": {},
   "outputs": [],
   "source": [
    "path_train = r\"C:\\Users\\voron\\IT\\pytorch\\data\\training\"\n",
    "path_test = r\"C:\\Users\\voron\\IT\\pytorch\\data\\testing\""
   ]
  },
  {
   "cell_type": "code",
   "execution_count": null,
   "id": "6dd8ba41-cadd-4179-a0c6-6ad2767fb6b9",
   "metadata": {},
   "outputs": [],
   "source": []
  },
  {
   "cell_type": "code",
   "execution_count": 6,
   "id": "8e2a6844-c234-4521-b530-6a2fd9292562",
   "metadata": {},
   "outputs": [],
   "source": [
    "train_data = MnistDtatset(path_train)\n",
    "test_data = MnistDtatset(path_test)"
   ]
  },
  {
   "cell_type": "code",
   "execution_count": 7,
   "id": "55885204-3719-4d1d-8e82-bbe9cde93e7f",
   "metadata": {},
   "outputs": [
    {
     "name": "stdout",
     "output_type": "stream",
     "text": [
      "длина тренировочного сета: 60000\n",
      "длина тренировочного сета: 10000\n"
     ]
    }
   ],
   "source": [
    "print(f\"длина тренировочного сета: {len(train_data)}\")\n",
    "print(f\"длина тренировочного сета: {len(test_data)}\")"
   ]
  },
  {
   "cell_type": "code",
   "execution_count": 8,
   "id": "c943338c-7c48-4856-b7c2-04c6f24cd94d",
   "metadata": {},
   "outputs": [
    {
     "name": "stdout",
     "output_type": "stream",
     "text": [
      "['class_0', 'class_1', 'class_2', 'class_3', 'class_4', 'class_5', 'class_6', 'class_7', 'class_8', 'class_9']\n"
     ]
    }
   ],
   "source": [
    "print(train_data.classes)\n"
   ]
  },
  {
   "cell_type": "code",
   "execution_count": 9,
   "id": "b7b2c362-bf2b-40a0-a9e9-6846b2dd4cbc",
   "metadata": {},
   "outputs": [
    {
     "data": {
      "text/plain": [
       "{'class_0': 0,\n",
       " 'class_1': 1,\n",
       " 'class_2': 2,\n",
       " 'class_3': 3,\n",
       " 'class_4': 4,\n",
       " 'class_5': 5,\n",
       " 'class_6': 6,\n",
       " 'class_7': 7,\n",
       " 'class_8': 8,\n",
       " 'class_9': 9}"
      ]
     },
     "execution_count": 9,
     "metadata": {},
     "output_type": "execute_result"
    }
   ],
   "source": [
    "train_data.class_to_idx"
   ]
  },
  {
   "cell_type": "code",
   "execution_count": 10,
   "id": "66f90e8b-cbc4-4576-a535-9c7ea6278c78",
   "metadata": {},
   "outputs": [
    {
     "name": "stdout",
     "output_type": "stream",
     "text": [
      "\u001b[32mclass_0\u001b[0m => \u001b[34m[1, 0, 0, 0, 0, 0, 0, 0, 0, 0]\u001b[0m\n",
      "\u001b[32mclass_1\u001b[0m => \u001b[34m[0, 1, 0, 0, 0, 0, 0, 0, 0, 0]\u001b[0m\n",
      "\u001b[32mclass_2\u001b[0m => \u001b[34m[0, 0, 1, 0, 0, 0, 0, 0, 0, 0]\u001b[0m\n",
      "\u001b[32mclass_3\u001b[0m => \u001b[34m[0, 0, 0, 1, 0, 0, 0, 0, 0, 0]\u001b[0m\n",
      "\u001b[32mclass_4\u001b[0m => \u001b[34m[0, 0, 0, 0, 1, 0, 0, 0, 0, 0]\u001b[0m\n",
      "\u001b[32mclass_5\u001b[0m => \u001b[34m[0, 0, 0, 0, 0, 1, 0, 0, 0, 0]\u001b[0m\n",
      "\u001b[32mclass_6\u001b[0m => \u001b[34m[0, 0, 0, 0, 0, 0, 1, 0, 0, 0]\u001b[0m\n",
      "\u001b[32mclass_7\u001b[0m => \u001b[34m[0, 0, 0, 0, 0, 0, 0, 1, 0, 0]\u001b[0m\n",
      "\u001b[32mclass_8\u001b[0m => \u001b[34m[0, 0, 0, 0, 0, 0, 0, 0, 1, 0]\u001b[0m\n",
      "\u001b[32mclass_9\u001b[0m => \u001b[34m[0, 0, 0, 0, 0, 0, 0, 0, 0, 1]\u001b[0m\n"
     ]
    }
   ],
   "source": [
    "for cls, one_hot_position in train_data.class_to_idx.items():\n",
    "    one_hot_vector = [(i == one_hot_position)*1 for i in range(10)]\n",
    "    print(f\"\\033[32m{cls}\\033[0m => \\033[34m{one_hot_vector}\\033[0m\")"
   ]
  },
  {
   "cell_type": "code",
   "execution_count": null,
   "id": "3774c4c2-c528-49f5-91ed-00ddb00673a5",
   "metadata": {},
   "outputs": [],
   "source": []
  },
  {
   "cell_type": "code",
   "execution_count": 11,
   "id": "1c01e814-21f2-4ccc-bf68-0dc5dddd0e95",
   "metadata": {},
   "outputs": [
    {
     "data": {
      "text/plain": [
       "'class_4'"
      ]
     },
     "execution_count": 11,
     "metadata": {},
     "output_type": "execute_result"
    }
   ],
   "source": [
    "train_data.classes[4]"
   ]
  },
  {
   "cell_type": "code",
   "execution_count": 12,
   "id": "fafaf478-e1fe-47b7-bb66-7cce9f4388fd",
   "metadata": {},
   "outputs": [
    {
     "name": "stdout",
     "output_type": "stream",
     "text": [
      "класс:  class_5\n"
     ]
    },
    {
     "data": {
      "text/plain": [
       "<matplotlib.image.AxesImage at 0x273f7f12e50>"
      ]
     },
     "execution_count": 12,
     "metadata": {},
     "output_type": "execute_result"
    },
    {
     "data": {
      "image/png": "[encoded data removed]",
      "text/plain": [
       "<Figure size 640x480 with 1 Axes>"
      ]
     },
     "metadata": {},
     "output_type": "display_data"
    }
   ],
   "source": [
    "img, ohp = train_data[33022]\n",
    "cls = train_data.classes[ohp]\n",
    "print(\"класс: \",cls)\n",
    "plt.imshow(img, cmap=\"grey\")"
   ]
  },
  {
   "cell_type": "code",
   "execution_count": 13,
   "id": "d4c2d70e-81b2-4666-b2c0-9ea4ce4058b0",
   "metadata": {},
   "outputs": [],
   "source": [
    "train_data, valid_data = random_split(train_data, [0.8, 0.2])"
   ]
  },
  {
   "cell_type": "code",
   "execution_count": 14,
   "id": "35fc06b4-d063-4152-a8a5-b9ade2a601d1",
   "metadata": {},
   "outputs": [],
   "source": [
    "bach_size = 16\n",
    "train_loader = DataLoader(train_data, bach_size, shuffle=True)\n",
    "valid_loader = DataLoader(valid_data, bach_size, shuffle=False)\n",
    "test_loader = DataLoader(test_data, bach_size, shuffle=False)\n"
   ]
  },
  {
   "cell_type": "code",
   "execution_count": 15,
   "id": "4c92ed66-45c8-4584-a662-fc8c22ebc3da",
   "metadata": {},
   "outputs": [
    {
     "data": {
      "text/plain": [
       "(28, 28)"
      ]
     },
     "execution_count": 15,
     "metadata": {},
     "output_type": "execute_result"
    }
   ],
   "source": [
    "np.array(train_data[4][0]).shape"
   ]
  },
  {
   "cell_type": "code",
   "execution_count": 16,
   "id": "7ce77db9-d5b7-42cb-b06c-82f8989ec5ce",
   "metadata": {},
   "outputs": [
    {
     "name": "stdout",
     "output_type": "stream",
     "text": [
      "torch.Size([28, 28])\n",
      "torch.Size([28, 28])\n",
      "torch.Size([28, 28])\n",
      "torch.Size([28, 28])\n"
     ]
    }
   ],
   "source": [
    "c = 0\n",
    "for i in test_data:\n",
    "    if c < 4:\n",
    "        print(torch.tensor(np.array(i[0])).shape)\n",
    "        c += 1\n",
    "    else:\n",
    "        break"
   ]
  },
  {
   "cell_type": "code",
   "execution_count": 17,
   "id": "f12d5c31-e579-45f2-b975-4e5671ae4f3c",
   "metadata": {},
   "outputs": [
    {
     "name": "stdout",
     "output_type": "stream",
     "text": [
      "номер bach: 1\n",
      "размер sample:  torch.Size([16, 28, 28])\n",
      "размер target:  torch.Size([16])\n",
      "номер bach: 2\n",
      "размер sample:  torch.Size([16, 28, 28])\n",
      "размер target:  torch.Size([16])\n",
      "номер bach: 3\n",
      "размер sample:  torch.Size([16, 28, 28])\n",
      "размер target:  torch.Size([16])\n",
      "....\n",
      "номер bach: 625\n",
      "размер sample:  torch.Size([16, 28, 28])\n",
      "размер target:  torch.Size([16])\n"
     ]
    }
   ],
   "source": [
    "for i, (sample, target) in enumerate(test_loader):\n",
    "    if i < 3:\n",
    "        print(f\"номер bach: {i + 1}\")\n",
    "        print(f\"размер sample: \", sample.shape)\n",
    "        print(f\"размер target: \", target.shape)\n",
    "    \n",
    "print(\"....\")\n",
    "print(f\"номер bach: {i + 1}\")\n",
    "print(f\"размер sample: \", sample.shape)\n",
    "print(f\"размер target: \", target.shape)\n",
    "    "
   ]
  },
  {
   "cell_type": "markdown",
   "id": "925bc656-84e9-4f9e-aac4-169104aff1b9",
   "metadata": {},
   "source": [
    "# ImageFolder"
   ]
  },
  {
   "cell_type": "code",
   "execution_count": 18,
   "id": "65df1637-e7c9-43fe-89b4-4d8974a17c46",
   "metadata": {},
   "outputs": [],
   "source": [
    "transform = v2.Compose(\n",
    "    [\n",
    "        v2.ToImage(),\n",
    "        v2.Grayscale(),\n",
    "        v2.ToDtype(torch.float32, scale=True),\n",
    "        v2.Normalize(mean=(0.5, ), std=(0.5, ))\n",
    "    ]\n",
    ")"
   ]
  },
  {
   "cell_type": "code",
   "execution_count": 19,
   "id": "8fd04bec-e5f9-4051-8821-59a657c174c0",
   "metadata": {},
   "outputs": [],
   "source": [
    "train_data = ImageFolder(path_train, transform=transform)\n",
    "test_data = ImageFolder(path_test, transform=transform)"
   ]
  },
  {
   "cell_type": "code",
   "execution_count": 20,
   "id": "084aef8a-4082-4de2-811a-d7ffaab8ea45",
   "metadata": {},
   "outputs": [],
   "source": [
    "bach_size = 16\n",
    "train_loader = DataLoader(train_data, bach_size, shuffle=True)\n",
    "valid_loader = DataLoader(valid_data, bach_size, shuffle=False)\n",
    "test_loader = DataLoader(test_data, bach_size, shuffle=False)\n"
   ]
  },
  {
   "cell_type": "code",
   "execution_count": 21,
   "id": "c025f49f-d2d2-4be3-b837-5399c5bb7062",
   "metadata": {},
   "outputs": [
    {
     "name": "stdout",
     "output_type": "stream",
     "text": [
      "номер bach: 1\n",
      "размер sample:  torch.Size([16, 1, 28, 28])\n",
      "размер target:  torch.Size([16])\n",
      "min-- -1.0, max-- 0.992156982421875\n",
      "номер bach: 2\n",
      "размер sample:  torch.Size([16, 1, 28, 28])\n",
      "размер target:  torch.Size([16])\n",
      "min-- -1.0, max-- 0.992156982421875\n",
      "номер bach: 3\n",
      "размер sample:  torch.Size([16, 1, 28, 28])\n",
      "размер target:  torch.Size([16])\n",
      "min-- -1.0, max-- 0.992156982421875\n",
      "....\n",
      "номер bach: 625\n",
      "размер sample:  torch.Size([16, 1, 28, 28])\n",
      "размер target:  torch.Size([16])\n",
      "min-- -1.0, max-- 0.992156982421875\n"
     ]
    }
   ],
   "source": [
    "for i, (sample, target) in enumerate(test_loader):\n",
    "    if i < 3:\n",
    "        print(f\"номер bach: {i + 1}\")\n",
    "        print(f\"размер sample: \", sample.shape)\n",
    "        print(f\"размер target: \", target.shape)\n",
    "        print(f\"min-- {sample.min()}, max-- {sample.max()}\")\n",
    "    \n",
    "print(\"....\")\n",
    "print(f\"номер bach: {i + 1}\")\n",
    "print(f\"размер sample: \", sample.shape)\n",
    "print(f\"размер target: \", target.shape)\n",
    "print(f\"min-- {sample.min()}, max-- {sample.max()}\")\n",
    "    "
   ]
  },
  {
   "cell_type": "code",
   "execution_count": null,
   "id": "5d5a87b9-f5ec-49f7-b90e-c1578d89acae",
   "metadata": {},
   "outputs": [],
   "source": []
  }
 ],
 "metadata": {
  "kernelspec": {
   "display_name": "Python 3 (ipykernel)",
   "language": "python",
   "name": "python3"
  },
  "language_info": {
   "codemirror_mode": {
    "name": "ipython",
    "version": 3
   },
   "file_extension": ".py",
   "mimetype": "text/x-python",
   "name": "python",
   "nbconvert_exporter": "python",
   "pygments_lexer": "ipython3",
   "version": "3.11.0"
  }
 },
 "nbformat": 4,
 "nbformat_minor": 5
}
