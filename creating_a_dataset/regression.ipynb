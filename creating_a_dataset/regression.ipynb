{
 "cells": [
  {
   "cell_type": "code",
   "execution_count": 1,
   "id": "25cd7110-9913-4234-ba0f-47b72f70e3f1",
   "metadata": {},
   "outputs": [],
   "source": [
    "import torch\n",
    "import torchvision\n",
    "\n",
    "from torchvision.datasets import ImageFolder\n",
    "from torch.utils.data import Dataset, DataLoader, random_split\n",
    "\n",
    "from torchvision import transforms\n",
    "from torchvision.transforms import v2\n",
    "\n",
    "import os\n",
    "import json\n",
    "import matplotlib.pyplot as plt\n",
    "import numpy as np\n",
    "\n",
    "from PIL import Image"
   ]
  },
  {
   "cell_type": "code",
   "execution_count": 2,
   "id": "19024ee4-3e39-4ed7-851f-6ac2041fa843",
   "metadata": {},
   "outputs": [],
   "source": [
    "class DatasetReg(Dataset):\n",
    "    def __init__(self, path, transform=None):\n",
    "        self.path = path\n",
    "        self.transform = transform\n",
    "\n",
    "        self.list_name_file = os.listdir(path)\n",
    "        if \"cords.json\" in self.list_name_file:\n",
    "            self.list_name_file.remove(\"cords.json\")\n",
    "        self.len_dataset = len(self.list_name_file)\n",
    "        with open(os.path.join(self.path, \"cords.json\"), \"r\") as f:\n",
    "            self.dict_cords = json.load(f)\n",
    "            \n",
    "    def __len__(self):\n",
    "        return self.len_dataset\n",
    "        \n",
    "    def __getitem__(self, index):\n",
    "        name_file = self.list_name_file[index]\n",
    "        path_img = os.path.join(self.path, name_file)\n",
    "        \n",
    "        img = Image.open(path_img)\n",
    "        cords = torch.tensor(self.dict_cords[name_file], dtype= torch.float32)\n",
    "\n",
    "        if self.transform is not None:\n",
    "            img = self.transform(img)\n",
    "        return img, cords\n",
    "        "
   ]
  },
  {
   "cell_type": "code",
   "execution_count": 3,
   "id": "9c9dc932-0821-417d-bbd4-d7e34ad46403",
   "metadata": {},
   "outputs": [],
   "source": [
    "transform = v2.Compose(\n",
    "    [\n",
    "        v2.ToImage(),\n",
    "        # v2.Grayscale(),\n",
    "        v2.ToDtype(torch.float32, scale=True),\n",
    "        v2.Normalize(mean=(0.5, ), std=(0.5, ))\n",
    "    ]\n",
    ")"
   ]
  },
  {
   "cell_type": "code",
   "execution_count": 4,
   "id": "99c18f3c-02ff-4f6e-857a-5369cddbf0be",
   "metadata": {},
   "outputs": [],
   "source": [
    "dataset = DatasetReg(path = r\"C:\\Users\\voron\\IT\\pytorch\\dataset\", transform=transform)"
   ]
  },
  {
   "cell_type": "code",
   "execution_count": 5,
   "id": "c8bcc462-c79f-43da-afc6-baa192a0181b",
   "metadata": {},
   "outputs": [
    {
     "name": "stdout",
     "output_type": "stream",
     "text": [
      "номер bach: 1\n",
      "размер sample:  torch.Size([1, 64, 64])\n",
      "размер target:  torch.Size([2])\n",
      "min-- -1.0, max-- 0.7098040580749512\n",
      "номер bach: 2\n",
      "размер sample:  torch.Size([1, 64, 64])\n",
      "размер target:  torch.Size([2])\n",
      "min-- -1.0, max-- 0.6627452373504639\n",
      "номер bach: 3\n",
      "размер sample:  torch.Size([1, 64, 64])\n",
      "размер target:  torch.Size([2])\n",
      "min-- -1.0, max-- 0.7019609212875366\n"
     ]
    }
   ],
   "source": [
    "for i, (sample, target) in enumerate(dataset):\n",
    "    if i == 3:\n",
    "        break\n",
    "    \n",
    "    print(f\"номер bach: {i + 1}\")\n",
    "    print(f\"размер sample: \", sample.shape)\n",
    "    print(f\"размер target: \", target.shape)\n",
    "    print(f\"min-- {sample.min()}, max-- {sample.max()}\")\n",
    "    \n",
    "    \n",
    "    "
   ]
  },
  {
   "cell_type": "code",
   "execution_count": 6,
   "id": "6efe5fc6-955c-4f3c-96b3-bf397531f553",
   "metadata": {},
   "outputs": [],
   "source": [
    "train_data, valid_data, test_data = random_split(dataset, [0.7, 0.2, 0.1])"
   ]
  },
  {
   "cell_type": "code",
   "execution_count": 7,
   "id": "c8f8f8f3-7481-4dc3-a56c-1ca0ab405828",
   "metadata": {},
   "outputs": [],
   "source": [
    "bach_size = 32\n",
    "train_loader = DataLoader(train_data, bach_size, shuffle=True)\n",
    "valid_loader = DataLoader(valid_data, bach_size, shuffle=False)\n",
    "test_loader = DataLoader(test_data, bach_size, shuffle=False)\n"
   ]
  },
  {
   "cell_type": "code",
   "execution_count": 8,
   "id": "e2f14cd0-711f-4ae9-8a69-3e2457e55305",
   "metadata": {},
   "outputs": [
    {
     "name": "stdout",
     "output_type": "stream",
     "text": [
      "номер bach: 1\n",
      "размер sample:  torch.Size([32, 1, 64, 64])\n",
      "размер target:  torch.Size([32, 2])\n",
      "min-- -1.0, max-- 0.7960785627365112\n",
      "номер bach: 2\n",
      "размер sample:  torch.Size([32, 1, 64, 64])\n",
      "размер target:  torch.Size([32, 2])\n",
      "min-- -1.0, max-- 0.8039216995239258\n",
      "номер bach: 3\n",
      "размер sample:  torch.Size([32, 1, 64, 64])\n",
      "размер target:  torch.Size([32, 2])\n",
      "min-- -1.0, max-- 0.7960785627365112\n"
     ]
    }
   ],
   "source": [
    "for i, (sample, target) in enumerate(train_loader):\n",
    "    if i == 3:\n",
    "        break\n",
    "    \n",
    "    print(f\"номер bach: {i + 1}\")\n",
    "    print(f\"размер sample: \", sample.shape)\n",
    "    print(f\"размер target: \", target.shape)\n",
    "    print(f\"min-- {sample.min()}, max-- {sample.max()}\")\n",
    "    \n",
    "    \n",
    "    "
   ]
  },
  {
   "cell_type": "code",
   "execution_count": null,
   "id": "6818c72d-56ea-4c20-983b-8cf30de3c916",
   "metadata": {},
   "outputs": [],
   "source": []
  }
 ],
 "metadata": {
  "kernelspec": {
   "display_name": "Python 3 (ipykernel)",
   "language": "python",
   "name": "python3"
  },
  "language_info": {
   "codemirror_mode": {
    "name": "ipython",
    "version": 3
   },
   "file_extension": ".py",
   "mimetype": "text/x-python",
   "name": "python",
   "nbconvert_exporter": "python",
   "pygments_lexer": "ipython3",
   "version": "3.11.0"
  }
 },
 "nbformat": 4,
 "nbformat_minor": 5
}
