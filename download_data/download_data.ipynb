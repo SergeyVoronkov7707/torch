{
 "cells": [
  {
   "cell_type": "code",
   "execution_count": 1,
   "id": "03c646e0-4913-4152-8d73-cbdabd46fd33",
   "metadata": {},
   "outputs": [],
   "source": [
    "import torch\n",
    "import torchvision\n",
    "\n",
    "from torchvision.datasets import ImageFolder\n",
    "from torch.utils.data import Dataset, DataLoader, random_split\n",
    "\n",
    "\n",
    "import os\n",
    "import json\n",
    "import matplotlib.pyplot as plt\n",
    "import numpy as np\n",
    "\n",
    "from PIL import Image"
   ]
  },
  {
   "cell_type": "markdown",
   "id": "6c7e803b-dd0e-4574-8679-61f8c1731aa6",
   "metadata": {},
   "source": [
    "### MNIST"
   ]
  },
  {
   "cell_type": "code",
   "execution_count": 3,
   "id": "bee58aaf-8d91-4cdf-b687-6a686b0c84b3",
   "metadata": {},
   "outputs": [
    {
     "name": "stderr",
     "output_type": "stream",
     "text": [
      "100%|██████████████████████████████████████████████████████████████████████████████| 9.91M/9.91M [00:10<00:00, 990kB/s]\n",
      "100%|██████████████████████████████████████████████████████████████████████████████| 28.9k/28.9k [00:00<00:00, 179kB/s]\n",
      "100%|██████████████████████████████████████████████████████████████████████████████| 1.65M/1.65M [00:02<00:00, 600kB/s]\n",
      "100%|██████████████████████████████████████████████████████████████████████████████| 4.54k/4.54k [00:00<00:00, 587kB/s]\n"
     ]
    }
   ],
   "source": [
    "train_dataset = torchvision.datasets.MNIST(root=r\"C:\\Users\\voron\\IT\\pytorch\", train=True, download=True)\n",
    "test_dataset = torchvision.datasets.MNIST(root=r\"C:\\Users\\voron\\IT\\pytorch\", train=False, download=True)"
   ]
  },
  {
   "cell_type": "code",
   "execution_count": 2,
   "id": "104a0d22-8d84-4adb-a2ce-1c1506915ae6",
   "metadata": {},
   "outputs": [],
   "source": [
    "import struct\n",
    "import sys\n",
    "\n",
    "from array import array\n",
    "from os import path\n"
   ]
  },
  {
   "cell_type": "code",
   "execution_count": 3,
   "id": "019239e0-ee36-4ecd-a413-1036d0dcd723",
   "metadata": {},
   "outputs": [],
   "source": [
    "def read(dataset):\n",
    "    if dataset == \"training\":\n",
    "        path_img = rf\"C:\\Users\\voron\\IT\\pytorch\\mnist\\raw\\train-images-idx3-ubyte\"\n",
    "        path_lbl = rf\"C:\\Users\\voron\\IT\\pytorch\\mnist\\raw\\train-labels-idx1-ubyte\"\n",
    "    elif dataset == \"testing\":\n",
    "        path_img = rf\"C:\\Users\\voron\\IT\\pytorch\\mnist\\raw\\t10k-images-idx3-ubyte\"\n",
    "        path_lbl = rf\"C:\\Users\\voron\\IT\\pytorch\\mnist\\raw\\t10k-labels-idx1-ubyte\"\n",
    "    else:\n",
    "        raise ValueError(\"Датасета нету\")\n",
    "\n",
    "    with open(path_lbl, \"rb\") as f_label:\n",
    "        _, size = struct.unpack(\">II\", f_label.read(8))\n",
    "        lbl = array(\"b\", f_label.read())\n",
    "\n",
    "    with open(path_img, \"rb\") as f_img:\n",
    "        _, size, rows, cols = struct.unpack(\">IIII\", f_img.read(16))\n",
    "        img = array(\"B\", f_img.read())\n",
    "\n",
    "    return lbl, img, size, rows, cols\n",
    "\n",
    "def write_dataset(labels, data, size, cols, rows, output_dir):\n",
    "    classes = {i: f\"class_{i}\" for i in range(10)}\n",
    "\n",
    "    output_dirs = [\n",
    "        path.join(output_dir, classes[i]) for i in range(10)\n",
    "    ]\n",
    "\n",
    "    for dir in output_dirs:\n",
    "        if not path.exists(dir):\n",
    "            os.makedirs(dir)\n",
    "\n",
    "    for(i, label) in enumerate(labels):\n",
    "        output_filename = path.join(output_dirs[label], str(i) + \".jpg\")\n",
    "        # print(\"writing\" + output_filename)\n",
    "\n",
    "        with open(output_filename, \"wb\") as h:\n",
    "            data_i = [\n",
    "                data[(i*rows*cols + j*cols) : (i*rows*cols + (j+1)*cols)] for j in range(rows)\n",
    "            ]\n",
    "            data_array = np.asarray(data_i)\n",
    "\n",
    "            im = Image.fromarray(data_array)\n",
    "            im.save(output_filename)\n",
    "\n",
    "output_path = r\"C:\\Users\\voron\\IT\\pytorch\\data\"\n",
    "for dataset in [\"training\", \"testing\"]:\n",
    "    write_dataset(*read(dataset), path.join(output_path, dataset))\n",
    "        "
   ]
  },
  {
   "cell_type": "markdown",
   "id": "4b20a128-3737-4623-8718-f047485c86b5",
   "metadata": {},
   "source": [
    "### для регрессии"
   ]
  },
  {
   "cell_type": "code",
   "execution_count": 36,
   "id": "0e013615-5139-4b58-a243-8544eb4971bf",
   "metadata": {},
   "outputs": [],
   "source": [
    "if not os.path.isdir(r\"C:\\Users\\voron\\IT\\pytorch\\dataset\"):\n",
    "    os.mkdir(r\"C:\\Users\\voron\\IT\\pytorch\\dataset\")\n",
    "img = np.random.randint(0, 50, [100000, 64, 64], dtype = np.uint8)\n",
    "square = np.random.randint(100, 200, [100000, 15, 15], dtype = np.uint8)\n",
    "\n",
    "cords = np.empty([100000, 2])\n",
    "\n",
    "data = {}\n",
    "\n",
    "for i in range(img.shape[0]):\n",
    "    x = np.random.randint(20, 44)\n",
    "    y = np.random.randint(20, 44)\n",
    "\n",
    "    img[i, (y-7):(y+8), (y-7):(y+8)] = square[i]\n",
    "    cords[i] = [y, x]\n",
    "\n",
    "    name_img = f\"img_{i}.jpeg\"\n",
    "    path_img = os.path.join(r\"C:\\Users\\voron\\IT\\pytorch\\dataset\", name_img)\n",
    "\n",
    "    image = Image.fromarray(img[i])\n",
    "    image.save(path_img)\n",
    "\n",
    "    data[name_img] = [y, x]\n",
    "\n",
    "with open(\"dataset/cords.json\", \"w\") as f:\n",
    "    json.dump(data, f, indent=2)"
   ]
  }
 ],
 "metadata": {
  "kernelspec": {
   "display_name": "Python 3 (ipykernel)",
   "language": "python",
   "name": "python3"
  },
  "language_info": {
   "codemirror_mode": {
    "name": "ipython",
    "version": 3
   },
   "file_extension": ".py",
   "mimetype": "text/x-python",
   "name": "python",
   "nbconvert_exporter": "python",
   "pygments_lexer": "ipython3",
   "version": "3.11.0"
  }
 },
 "nbformat": 4,
 "nbformat_minor": 5
}
